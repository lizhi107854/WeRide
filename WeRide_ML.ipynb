{
 "cells": [
  {
   "cell_type": "code",
   "execution_count": 1505,
   "metadata": {},
   "outputs": [],
   "source": [
    "import pandas as pd\n",
    "from math import sqrt\n",
    "import math\n",
    "import seaborn as sns\n",
    "import numpy as np\n",
    "import matplotlib.pyplot as plt\n",
    "\n",
    "from scipy import stats\n",
    "from sklearn.linear_model import LinearRegression\n",
    "from sklearn.metrics import mean_squared_error, r2_score\n",
    "from sklearn.ensemble import RandomForestRegressor\n",
    "from sklearn import preprocessing\n",
    "from sklearn.model_selection import cross_val_score, GridSearchCV\n",
    "from sklearn.preprocessing import MinMaxScaler\n",
    "from sklearn.preprocessing import StandardScaler\n",
    "from sklearn.model_selection import train_test_split\n",
    "from sklearn.preprocessing import scale\n",
    "from sklearn.linear_model import LinearRegression\n",
    "from sklearn.metrics import mean_squared_error, r2_score\n",
    "\n",
    "%matplotlib inline"
   ]
  },
  {
   "cell_type": "code",
   "execution_count": 1498,
   "metadata": {},
   "outputs": [],
   "source": [
    "# data = pd.read_csv('/Volumes/Li/taxi/Taxi_Trips.csv')"
   ]
  },
  {
   "cell_type": "code",
   "execution_count": 1499,
   "metadata": {},
   "outputs": [],
   "source": [
    "# chunksize = 10 ** 10\n",
    "# for chunk in pd.read_csv('/Volumes/Li/taxi/Taxi_Trips.csv', chunksize=chunksize):\n",
    "#     process(chunk)"
   ]
  },
  {
   "cell_type": "code",
   "execution_count": 1501,
   "metadata": {
    "scrolled": true
   },
   "outputs": [],
   "source": [
    "with open('/Volumes/Li/taxi/Taxi_Trips.csv') as f:\n",
    "    data = pd.read_csv(f, nrows=10 ** 5, engine='python')"
   ]
  },
  {
   "cell_type": "code",
   "execution_count": 1502,
   "metadata": {},
   "outputs": [
    {
     "data": {
      "text/html": [
       "<div>\n",
       "<style scoped>\n",
       "    .dataframe tbody tr th:only-of-type {\n",
       "        vertical-align: middle;\n",
       "    }\n",
       "\n",
       "    .dataframe tbody tr th {\n",
       "        vertical-align: top;\n",
       "    }\n",
       "\n",
       "    .dataframe thead th {\n",
       "        text-align: right;\n",
       "    }\n",
       "</style>\n",
       "<table border=\"1\" class=\"dataframe\">\n",
       "  <thead>\n",
       "    <tr style=\"text-align: right;\">\n",
       "      <th></th>\n",
       "      <th>Trip ID</th>\n",
       "      <th>Taxi ID</th>\n",
       "      <th>Trip Start Timestamp</th>\n",
       "      <th>Trip End Timestamp</th>\n",
       "      <th>Trip Seconds</th>\n",
       "      <th>Trip Miles</th>\n",
       "      <th>Pickup Census Tract</th>\n",
       "      <th>Dropoff Census Tract</th>\n",
       "      <th>Pickup Community Area</th>\n",
       "      <th>Dropoff Community Area</th>\n",
       "      <th>...</th>\n",
       "      <th>Company</th>\n",
       "      <th>Pickup Centroid Latitude</th>\n",
       "      <th>Pickup Centroid Longitude</th>\n",
       "      <th>Pickup Centroid Location</th>\n",
       "      <th>Dropoff Centroid Latitude</th>\n",
       "      <th>Dropoff Centroid Longitude</th>\n",
       "      <th>Dropoff Centroid  Location</th>\n",
       "      <th>abs_lat_diff</th>\n",
       "      <th>abs_lon_diff</th>\n",
       "      <th>Trip_Total_log</th>\n",
       "    </tr>\n",
       "  </thead>\n",
       "  <tbody>\n",
       "    <tr>\n",
       "      <td>2</td>\n",
       "      <td>b74e446c9053c94c6ef33334ad01629e7b220459</td>\n",
       "      <td>f8d3b9a91df83387f39b14924f52dc76b879eb5c27ea76...</td>\n",
       "      <td>06/04/2019 06:30:00 AM</td>\n",
       "      <td>06/04/2019 07:00:00 AM</td>\n",
       "      <td>1680.0</td>\n",
       "      <td>17.90</td>\n",
       "      <td>1.703198e+10</td>\n",
       "      <td>1.703132e+10</td>\n",
       "      <td>76.0</td>\n",
       "      <td>32.0</td>\n",
       "      <td>...</td>\n",
       "      <td>Taxi Affiliation Services</td>\n",
       "      <td>41.979071</td>\n",
       "      <td>-87.903040</td>\n",
       "      <td>POINT (-87.9030396611 41.9790708201)</td>\n",
       "      <td>41.884987</td>\n",
       "      <td>-87.620993</td>\n",
       "      <td>POINT (-87.6209929134 41.8849871918)</td>\n",
       "      <td>0.094084</td>\n",
       "      <td>0.282047</td>\n",
       "      <td>4.064744</td>\n",
       "    </tr>\n",
       "    <tr>\n",
       "      <td>7</td>\n",
       "      <td>b76121258a5829067f5b6ce7748592442fb1f2cc</td>\n",
       "      <td>eb28d07387c3612fea25a09e2da7ab39cca20e63543889...</td>\n",
       "      <td>06/01/2019 01:30:00 PM</td>\n",
       "      <td>06/01/2019 01:45:00 PM</td>\n",
       "      <td>864.0</td>\n",
       "      <td>2.30</td>\n",
       "      <td>1.703133e+10</td>\n",
       "      <td>1.703108e+10</td>\n",
       "      <td>33.0</td>\n",
       "      <td>8.0</td>\n",
       "      <td>...</td>\n",
       "      <td>Taxi Affiliation Service Yellow</td>\n",
       "      <td>41.859350</td>\n",
       "      <td>-87.617358</td>\n",
       "      <td>POINT (-87.6173580061 41.859349715)</td>\n",
       "      <td>41.892508</td>\n",
       "      <td>-87.626215</td>\n",
       "      <td>POINT (-87.6262149064 41.8925077809)</td>\n",
       "      <td>0.033158</td>\n",
       "      <td>0.008857</td>\n",
       "      <td>2.420368</td>\n",
       "    </tr>\n",
       "    <tr>\n",
       "      <td>11</td>\n",
       "      <td>b7545a556fc7750b9ea5ea737c01d7bd2ee5197a</td>\n",
       "      <td>16d6cdedd3ad81605ff75fe12cda01cc8efc82667a6663...</td>\n",
       "      <td>06/20/2019 07:30:00 PM</td>\n",
       "      <td>06/20/2019 08:15:00 PM</td>\n",
       "      <td>2215.0</td>\n",
       "      <td>13.76</td>\n",
       "      <td>1.703198e+10</td>\n",
       "      <td>1.703106e+10</td>\n",
       "      <td>76.0</td>\n",
       "      <td>6.0</td>\n",
       "      <td>...</td>\n",
       "      <td>Flash Cab</td>\n",
       "      <td>41.979071</td>\n",
       "      <td>-87.903040</td>\n",
       "      <td>POINT (-87.9030396611 41.9790708201)</td>\n",
       "      <td>41.945282</td>\n",
       "      <td>-87.661545</td>\n",
       "      <td>POINT (-87.6615450961 41.9452823311)</td>\n",
       "      <td>0.033788</td>\n",
       "      <td>0.241495</td>\n",
       "      <td>3.877432</td>\n",
       "    </tr>\n",
       "    <tr>\n",
       "      <td>15</td>\n",
       "      <td>b75dc493a89749a6d04c79be8f801887072960fd</td>\n",
       "      <td>251e9084ed2d4c90b4f113a866888186d09b852de84937...</td>\n",
       "      <td>06/27/2019 07:15:00 PM</td>\n",
       "      <td>06/27/2019 07:15:00 PM</td>\n",
       "      <td>456.0</td>\n",
       "      <td>1.20</td>\n",
       "      <td>1.703108e+10</td>\n",
       "      <td>1.703108e+10</td>\n",
       "      <td>8.0</td>\n",
       "      <td>8.0</td>\n",
       "      <td>...</td>\n",
       "      <td>City Service</td>\n",
       "      <td>41.898332</td>\n",
       "      <td>-87.620763</td>\n",
       "      <td>POINT (-87.6207628651 41.8983317935)</td>\n",
       "      <td>41.897984</td>\n",
       "      <td>-87.641492</td>\n",
       "      <td>POINT (-87.6414915334 41.897983898)</td>\n",
       "      <td>0.000348</td>\n",
       "      <td>0.020729</td>\n",
       "      <td>1.981001</td>\n",
       "    </tr>\n",
       "    <tr>\n",
       "      <td>16</td>\n",
       "      <td>b75b55be2b4d993076ed73b3077723fd1adab637</td>\n",
       "      <td>1ada1b0db4c89ff798c9c99c02166793001d4a68c2a97c...</td>\n",
       "      <td>06/05/2019 02:15:00 PM</td>\n",
       "      <td>06/05/2019 02:15:00 PM</td>\n",
       "      <td>529.0</td>\n",
       "      <td>1.70</td>\n",
       "      <td>1.703184e+10</td>\n",
       "      <td>1.703108e+10</td>\n",
       "      <td>32.0</td>\n",
       "      <td>8.0</td>\n",
       "      <td>...</td>\n",
       "      <td>Taxi Affiliation Service Yellow</td>\n",
       "      <td>41.880994</td>\n",
       "      <td>-87.632746</td>\n",
       "      <td>POINT (-87.6327464887 41.8809944707)</td>\n",
       "      <td>41.907492</td>\n",
       "      <td>-87.635760</td>\n",
       "      <td>POINT (-87.6357600901 41.9074919303)</td>\n",
       "      <td>0.026497</td>\n",
       "      <td>0.003014</td>\n",
       "      <td>2.327278</td>\n",
       "    </tr>\n",
       "    <tr>\n",
       "      <td>...</td>\n",
       "      <td>...</td>\n",
       "      <td>...</td>\n",
       "      <td>...</td>\n",
       "      <td>...</td>\n",
       "      <td>...</td>\n",
       "      <td>...</td>\n",
       "      <td>...</td>\n",
       "      <td>...</td>\n",
       "      <td>...</td>\n",
       "      <td>...</td>\n",
       "      <td>...</td>\n",
       "      <td>...</td>\n",
       "      <td>...</td>\n",
       "      <td>...</td>\n",
       "      <td>...</td>\n",
       "      <td>...</td>\n",
       "      <td>...</td>\n",
       "      <td>...</td>\n",
       "      <td>...</td>\n",
       "      <td>...</td>\n",
       "      <td>...</td>\n",
       "    </tr>\n",
       "    <tr>\n",
       "      <td>99986</td>\n",
       "      <td>c664d8a1151426b0583b3fe024d13efed37d737f</td>\n",
       "      <td>d645a947dabd328acad2dd5987f9714e3a79807204ce1f...</td>\n",
       "      <td>06/13/2019 05:30:00 PM</td>\n",
       "      <td>06/13/2019 06:00:00 PM</td>\n",
       "      <td>1260.0</td>\n",
       "      <td>3.10</td>\n",
       "      <td>1.703184e+10</td>\n",
       "      <td>1.703107e+10</td>\n",
       "      <td>32.0</td>\n",
       "      <td>7.0</td>\n",
       "      <td>...</td>\n",
       "      <td>Star North Management LLC</td>\n",
       "      <td>41.880994</td>\n",
       "      <td>-87.632746</td>\n",
       "      <td>POINT (-87.6327464887 41.8809944707)</td>\n",
       "      <td>41.922083</td>\n",
       "      <td>-87.634156</td>\n",
       "      <td>POINT (-87.6341560931 41.922082541)</td>\n",
       "      <td>0.041088</td>\n",
       "      <td>0.001410</td>\n",
       "      <td>2.724580</td>\n",
       "    </tr>\n",
       "    <tr>\n",
       "      <td>99992</td>\n",
       "      <td>c65bbcaef353711296bb8020d537de2d6ac6d5e2</td>\n",
       "      <td>0445183a107050077824c5eac5c05bf30a5e0c3b7649f7...</td>\n",
       "      <td>06/25/2019 09:45:00 PM</td>\n",
       "      <td>06/25/2019 10:00:00 PM</td>\n",
       "      <td>840.0</td>\n",
       "      <td>2.70</td>\n",
       "      <td>1.703108e+10</td>\n",
       "      <td>1.703184e+10</td>\n",
       "      <td>8.0</td>\n",
       "      <td>33.0</td>\n",
       "      <td>...</td>\n",
       "      <td>Taxi Affiliation Services</td>\n",
       "      <td>41.892508</td>\n",
       "      <td>-87.626215</td>\n",
       "      <td>POINT (-87.6262149064 41.8925077809)</td>\n",
       "      <td>41.849247</td>\n",
       "      <td>-87.624135</td>\n",
       "      <td>POINT (-87.6241352979 41.8492467545)</td>\n",
       "      <td>0.043261</td>\n",
       "      <td>0.002080</td>\n",
       "      <td>2.505526</td>\n",
       "    </tr>\n",
       "    <tr>\n",
       "      <td>99994</td>\n",
       "      <td>c655b7aa86b594f4b0e778f1f56a08b539c6102c</td>\n",
       "      <td>fad72c90f3e876bd026bba64daff268cad313987704140...</td>\n",
       "      <td>06/03/2019 12:15:00 PM</td>\n",
       "      <td>06/03/2019 12:45:00 PM</td>\n",
       "      <td>2040.0</td>\n",
       "      <td>17.40</td>\n",
       "      <td>1.703198e+10</td>\n",
       "      <td>1.703108e+10</td>\n",
       "      <td>76.0</td>\n",
       "      <td>8.0</td>\n",
       "      <td>...</td>\n",
       "      <td>Taxi Affiliation Services</td>\n",
       "      <td>41.979071</td>\n",
       "      <td>-87.903040</td>\n",
       "      <td>POINT (-87.9030396611 41.9790708201)</td>\n",
       "      <td>41.892042</td>\n",
       "      <td>-87.631864</td>\n",
       "      <td>POINT (-87.6318639497 41.8920421365)</td>\n",
       "      <td>0.087029</td>\n",
       "      <td>0.271176</td>\n",
       "      <td>4.050044</td>\n",
       "    </tr>\n",
       "    <tr>\n",
       "      <td>99998</td>\n",
       "      <td>c66163af6e26f80c806ffd9415887d8e6640086d</td>\n",
       "      <td>c0910b0d86dc225791e3a4eaf41b3dd05ccc3855ce6a41...</td>\n",
       "      <td>06/28/2019 01:00:00 PM</td>\n",
       "      <td>06/28/2019 01:15:00 PM</td>\n",
       "      <td>1020.0</td>\n",
       "      <td>2.10</td>\n",
       "      <td>1.703128e+10</td>\n",
       "      <td>1.703108e+10</td>\n",
       "      <td>28.0</td>\n",
       "      <td>8.0</td>\n",
       "      <td>...</td>\n",
       "      <td>Top Cab Affiliation</td>\n",
       "      <td>41.885300</td>\n",
       "      <td>-87.642808</td>\n",
       "      <td>POINT (-87.6428084655 41.8853000224)</td>\n",
       "      <td>41.891972</td>\n",
       "      <td>-87.612945</td>\n",
       "      <td>POINT (-87.6129454143 41.8919715078)</td>\n",
       "      <td>0.006671</td>\n",
       "      <td>0.029863</td>\n",
       "      <td>2.463853</td>\n",
       "    </tr>\n",
       "    <tr>\n",
       "      <td>99999</td>\n",
       "      <td>c66234bb3d624347e2353e8756aa371a9cd61662</td>\n",
       "      <td>001330b81e23412049f9c3eff5b6e972a91afe59c9aa36...</td>\n",
       "      <td>06/27/2019 11:30:00 AM</td>\n",
       "      <td>06/27/2019 11:30:00 AM</td>\n",
       "      <td>649.0</td>\n",
       "      <td>1.70</td>\n",
       "      <td>1.703184e+10</td>\n",
       "      <td>1.703183e+10</td>\n",
       "      <td>32.0</td>\n",
       "      <td>28.0</td>\n",
       "      <td>...</td>\n",
       "      <td>Blue Diamond</td>\n",
       "      <td>41.880994</td>\n",
       "      <td>-87.632746</td>\n",
       "      <td>POINT (-87.6327464887 41.8809944707)</td>\n",
       "      <td>41.885281</td>\n",
       "      <td>-87.657233</td>\n",
       "      <td>POINT (-87.6572331997 41.8852813201)</td>\n",
       "      <td>0.004287</td>\n",
       "      <td>0.024487</td>\n",
       "      <td>2.545531</td>\n",
       "    </tr>\n",
       "  </tbody>\n",
       "</table>\n",
       "<p>32351 rows × 26 columns</p>\n",
       "</div>"
      ],
      "text/plain": [
       "                                        Trip ID  \\\n",
       "2      b74e446c9053c94c6ef33334ad01629e7b220459   \n",
       "7      b76121258a5829067f5b6ce7748592442fb1f2cc   \n",
       "11     b7545a556fc7750b9ea5ea737c01d7bd2ee5197a   \n",
       "15     b75dc493a89749a6d04c79be8f801887072960fd   \n",
       "16     b75b55be2b4d993076ed73b3077723fd1adab637   \n",
       "...                                         ...   \n",
       "99986  c664d8a1151426b0583b3fe024d13efed37d737f   \n",
       "99992  c65bbcaef353711296bb8020d537de2d6ac6d5e2   \n",
       "99994  c655b7aa86b594f4b0e778f1f56a08b539c6102c   \n",
       "99998  c66163af6e26f80c806ffd9415887d8e6640086d   \n",
       "99999  c66234bb3d624347e2353e8756aa371a9cd61662   \n",
       "\n",
       "                                                 Taxi ID  \\\n",
       "2      f8d3b9a91df83387f39b14924f52dc76b879eb5c27ea76...   \n",
       "7      eb28d07387c3612fea25a09e2da7ab39cca20e63543889...   \n",
       "11     16d6cdedd3ad81605ff75fe12cda01cc8efc82667a6663...   \n",
       "15     251e9084ed2d4c90b4f113a866888186d09b852de84937...   \n",
       "16     1ada1b0db4c89ff798c9c99c02166793001d4a68c2a97c...   \n",
       "...                                                  ...   \n",
       "99986  d645a947dabd328acad2dd5987f9714e3a79807204ce1f...   \n",
       "99992  0445183a107050077824c5eac5c05bf30a5e0c3b7649f7...   \n",
       "99994  fad72c90f3e876bd026bba64daff268cad313987704140...   \n",
       "99998  c0910b0d86dc225791e3a4eaf41b3dd05ccc3855ce6a41...   \n",
       "99999  001330b81e23412049f9c3eff5b6e972a91afe59c9aa36...   \n",
       "\n",
       "         Trip Start Timestamp      Trip End Timestamp  Trip Seconds  \\\n",
       "2      06/04/2019 06:30:00 AM  06/04/2019 07:00:00 AM        1680.0   \n",
       "7      06/01/2019 01:30:00 PM  06/01/2019 01:45:00 PM         864.0   \n",
       "11     06/20/2019 07:30:00 PM  06/20/2019 08:15:00 PM        2215.0   \n",
       "15     06/27/2019 07:15:00 PM  06/27/2019 07:15:00 PM         456.0   \n",
       "16     06/05/2019 02:15:00 PM  06/05/2019 02:15:00 PM         529.0   \n",
       "...                       ...                     ...           ...   \n",
       "99986  06/13/2019 05:30:00 PM  06/13/2019 06:00:00 PM        1260.0   \n",
       "99992  06/25/2019 09:45:00 PM  06/25/2019 10:00:00 PM         840.0   \n",
       "99994  06/03/2019 12:15:00 PM  06/03/2019 12:45:00 PM        2040.0   \n",
       "99998  06/28/2019 01:00:00 PM  06/28/2019 01:15:00 PM        1020.0   \n",
       "99999  06/27/2019 11:30:00 AM  06/27/2019 11:30:00 AM         649.0   \n",
       "\n",
       "       Trip Miles  Pickup Census Tract  Dropoff Census Tract  \\\n",
       "2           17.90         1.703198e+10          1.703132e+10   \n",
       "7            2.30         1.703133e+10          1.703108e+10   \n",
       "11          13.76         1.703198e+10          1.703106e+10   \n",
       "15           1.20         1.703108e+10          1.703108e+10   \n",
       "16           1.70         1.703184e+10          1.703108e+10   \n",
       "...           ...                  ...                   ...   \n",
       "99986        3.10         1.703184e+10          1.703107e+10   \n",
       "99992        2.70         1.703108e+10          1.703184e+10   \n",
       "99994       17.40         1.703198e+10          1.703108e+10   \n",
       "99998        2.10         1.703128e+10          1.703108e+10   \n",
       "99999        1.70         1.703184e+10          1.703183e+10   \n",
       "\n",
       "       Pickup Community Area  Dropoff Community Area  ...  \\\n",
       "2                       76.0                    32.0  ...   \n",
       "7                       33.0                     8.0  ...   \n",
       "11                      76.0                     6.0  ...   \n",
       "15                       8.0                     8.0  ...   \n",
       "16                      32.0                     8.0  ...   \n",
       "...                      ...                     ...  ...   \n",
       "99986                   32.0                     7.0  ...   \n",
       "99992                    8.0                    33.0  ...   \n",
       "99994                   76.0                     8.0  ...   \n",
       "99998                   28.0                     8.0  ...   \n",
       "99999                   32.0                    28.0  ...   \n",
       "\n",
       "                               Company  Pickup Centroid Latitude  \\\n",
       "2            Taxi Affiliation Services                 41.979071   \n",
       "7      Taxi Affiliation Service Yellow                 41.859350   \n",
       "11                           Flash Cab                 41.979071   \n",
       "15                        City Service                 41.898332   \n",
       "16     Taxi Affiliation Service Yellow                 41.880994   \n",
       "...                                ...                       ...   \n",
       "99986        Star North Management LLC                 41.880994   \n",
       "99992        Taxi Affiliation Services                 41.892508   \n",
       "99994        Taxi Affiliation Services                 41.979071   \n",
       "99998              Top Cab Affiliation                 41.885300   \n",
       "99999                     Blue Diamond                 41.880994   \n",
       "\n",
       "       Pickup Centroid Longitude              Pickup Centroid Location  \\\n",
       "2                     -87.903040  POINT (-87.9030396611 41.9790708201)   \n",
       "7                     -87.617358   POINT (-87.6173580061 41.859349715)   \n",
       "11                    -87.903040  POINT (-87.9030396611 41.9790708201)   \n",
       "15                    -87.620763  POINT (-87.6207628651 41.8983317935)   \n",
       "16                    -87.632746  POINT (-87.6327464887 41.8809944707)   \n",
       "...                          ...                                   ...   \n",
       "99986                 -87.632746  POINT (-87.6327464887 41.8809944707)   \n",
       "99992                 -87.626215  POINT (-87.6262149064 41.8925077809)   \n",
       "99994                 -87.903040  POINT (-87.9030396611 41.9790708201)   \n",
       "99998                 -87.642808  POINT (-87.6428084655 41.8853000224)   \n",
       "99999                 -87.632746  POINT (-87.6327464887 41.8809944707)   \n",
       "\n",
       "       Dropoff Centroid Latitude Dropoff Centroid Longitude  \\\n",
       "2                      41.884987                 -87.620993   \n",
       "7                      41.892508                 -87.626215   \n",
       "11                     41.945282                 -87.661545   \n",
       "15                     41.897984                 -87.641492   \n",
       "16                     41.907492                 -87.635760   \n",
       "...                          ...                        ...   \n",
       "99986                  41.922083                 -87.634156   \n",
       "99992                  41.849247                 -87.624135   \n",
       "99994                  41.892042                 -87.631864   \n",
       "99998                  41.891972                 -87.612945   \n",
       "99999                  41.885281                 -87.657233   \n",
       "\n",
       "                 Dropoff Centroid  Location  abs_lat_diff  abs_lon_diff  \\\n",
       "2      POINT (-87.6209929134 41.8849871918)      0.094084      0.282047   \n",
       "7      POINT (-87.6262149064 41.8925077809)      0.033158      0.008857   \n",
       "11     POINT (-87.6615450961 41.9452823311)      0.033788      0.241495   \n",
       "15      POINT (-87.6414915334 41.897983898)      0.000348      0.020729   \n",
       "16     POINT (-87.6357600901 41.9074919303)      0.026497      0.003014   \n",
       "...                                     ...           ...           ...   \n",
       "99986   POINT (-87.6341560931 41.922082541)      0.041088      0.001410   \n",
       "99992  POINT (-87.6241352979 41.8492467545)      0.043261      0.002080   \n",
       "99994  POINT (-87.6318639497 41.8920421365)      0.087029      0.271176   \n",
       "99998  POINT (-87.6129454143 41.8919715078)      0.006671      0.029863   \n",
       "99999  POINT (-87.6572331997 41.8852813201)      0.004287      0.024487   \n",
       "\n",
       "      Trip_Total_log  \n",
       "2           4.064744  \n",
       "7           2.420368  \n",
       "11          3.877432  \n",
       "15          1.981001  \n",
       "16          2.327278  \n",
       "...              ...  \n",
       "99986       2.724580  \n",
       "99992       2.505526  \n",
       "99994       4.050044  \n",
       "99998       2.463853  \n",
       "99999       2.545531  \n",
       "\n",
       "[32351 rows x 26 columns]"
      ]
     },
     "execution_count": 1502,
     "metadata": {},
     "output_type": "execute_result"
    }
   ],
   "source": [
    "data = data.loc[data['Trip Miles'].between(1, 100)]\n",
    "data"
   ]
  },
  {
   "cell_type": "code",
   "execution_count": 1503,
   "metadata": {},
   "outputs": [],
   "source": [
    "data.to_csv('/Users/zhili/Desktop/trip_data.csv')"
   ]
  },
  {
   "cell_type": "code",
   "execution_count": 1450,
   "metadata": {},
   "outputs": [
    {
     "data": {
      "text/plain": [
       "Index(['Trip ID', 'Taxi ID', 'Trip Start Timestamp', 'Trip End Timestamp',\n",
       "       'Trip Seconds', 'Trip Miles', 'Pickup Census Tract',\n",
       "       'Dropoff Census Tract', 'Pickup Community Area',\n",
       "       'Dropoff Community Area', 'Fare', 'Tips', 'Tolls', 'Extras',\n",
       "       'Trip Total', 'Payment Type', 'Company', 'Pickup Centroid Latitude',\n",
       "       'Pickup Centroid Longitude', 'Pickup Centroid Location',\n",
       "       'Dropoff Centroid Latitude', 'Dropoff Centroid Longitude',\n",
       "       'Dropoff Centroid  Location', 'abs_lat_diff', 'abs_lon_diff',\n",
       "       'Trip_Total_log'],\n",
       "      dtype='object')"
      ]
     },
     "execution_count": 1450,
     "metadata": {},
     "output_type": "execute_result"
    }
   ],
   "source": [
    "data.columns"
   ]
  },
  {
   "cell_type": "code",
   "execution_count": 1451,
   "metadata": {
    "scrolled": true
   },
   "outputs": [
    {
     "data": {
      "text/plain": [
       "2        17.90\n",
       "7         2.30\n",
       "11       13.76\n",
       "15        1.20\n",
       "16        1.70\n",
       "         ...  \n",
       "99986     3.10\n",
       "99992     2.70\n",
       "99994    17.40\n",
       "99998     2.10\n",
       "99999     1.70\n",
       "Name: Trip Miles, Length: 32351, dtype: float64"
      ]
     },
     "execution_count": 1451,
     "metadata": {},
     "output_type": "execute_result"
    }
   ],
   "source": [
    "data['Trip Miles']"
   ]
  },
  {
   "cell_type": "code",
   "execution_count": 1452,
   "metadata": {},
   "outputs": [],
   "source": [
    "# Absolute difference in latitude and longitude\n",
    "\n",
    "data['abs_lat_diff']= (data['Dropoff Centroid Latitude']- data['Pickup Centroid Latitude']).abs()\n",
    "\n",
    "data['abs_lon_diff']= (data['Dropoff Centroid Longitude']- data['Pickup Centroid Longitude']).abs()"
   ]
  },
  {
   "cell_type": "code",
   "execution_count": 1187,
   "metadata": {
    "scrolled": true
   },
   "outputs": [
    {
     "data": {
      "image/png": "[encoded data removed]",
      "text/plain": [
       "<Figure size 432x288 with 2 Axes>"
      ]
     },
     "metadata": {
      "needs_background": "light"
     },
     "output_type": "display_data"
    }
   ],
   "source": [
    "corr = data.corr()\n",
    "ax = sns.heatmap(\n",
    "    corr, \n",
    "    vmin=-1, vmax=1, center=0,\n",
    "    cmap=sns.diverging_palette(20, 220, n=200),\n",
    "    square=True\n",
    ")\n",
    "ax.set_xticklabels(\n",
    "    ax.get_xticklabels(),\n",
    "    rotation=45,\n",
    "    horizontalalignment='right'\n",
    ");"
   ]
  },
  {
   "cell_type": "markdown",
   "metadata": {},
   "source": [
    "## From above heat map, we can conclude that Trip miles has strongest correlation with Trip total"
   ]
  },
  {
   "cell_type": "code",
   "execution_count": 1189,
   "metadata": {},
   "outputs": [
    {
     "name": "stdout",
     "output_type": "stream",
     "text": [
      "Number of Numerical features:  17\n"
     ]
    }
   ],
   "source": [
    "#Numerical and Categorical features\n",
    "numerical_feats = data.dtypes[data.dtypes != \"object\"].index\n",
    "print(\"Number of Numerical features: \", len(numerical_feats))"
   ]
  },
  {
   "cell_type": "code",
   "execution_count": 1190,
   "metadata": {
    "scrolled": true
   },
   "outputs": [
    {
     "name": "stdout",
     "output_type": "stream",
     "text": [
      "Number of Categorical features:  8\n"
     ]
    }
   ],
   "source": [
    "categorical_feats = data.dtypes[data.dtypes == \"object\"].index\n",
    "print(\"Number of Categorical features: \", len(categorical_feats))"
   ]
  },
  {
   "cell_type": "code",
   "execution_count": 1192,
   "metadata": {},
   "outputs": [
    {
     "data": {
      "text/plain": [
       "Index(['Trip ID', 'Taxi ID', 'Trip Start Timestamp', 'Trip End Timestamp',\n",
       "       'Trip Seconds', 'Trip Miles', 'Pickup Census Tract',\n",
       "       'Dropoff Census Tract', 'Pickup Community Area',\n",
       "       'Dropoff Community Area', 'Fare', 'Tips', 'Tolls', 'Extras',\n",
       "       'Trip Total', 'Payment Type', 'Company', 'Pickup Centroid Latitude',\n",
       "       'Pickup Centroid Longitude', 'Pickup Centroid Location',\n",
       "       'Dropoff Centroid Latitude', 'Dropoff Centroid Longitude',\n",
       "       'Dropoff Centroid  Location', 'abs_lat_diff', 'abs_lon_diff'],\n",
       "      dtype='object')"
      ]
     },
     "execution_count": 1192,
     "metadata": {},
     "output_type": "execute_result"
    }
   ],
   "source": [
    "data.columns"
   ]
  },
  {
   "cell_type": "code",
   "execution_count": 1248,
   "metadata": {},
   "outputs": [],
   "source": [
    "data= data.loc[data['Trip Miles'].between(1, 100)]"
   ]
  },
  {
   "cell_type": "markdown",
   "metadata": {},
   "source": [
    "As we see, the target variable SalePrice is not normally distributed.\n",
    "This can reduce the performance of the ML regression models because some assume normal distribution,\n",
    "Therfore we make a log transformation, the resulting distribution looks much better."
   ]
  },
  {
   "cell_type": "markdown",
   "metadata": {},
   "source": [
    "## EDA"
   ]
  },
  {
   "cell_type": "code",
   "execution_count": 1249,
   "metadata": {
    "scrolled": true
   },
   "outputs": [
    {
     "data": {
      "image/png": "[encoded data removed]",
      "text/plain": [
       "<Figure size 756x2592 with 36 Axes>"
      ]
     },
     "metadata": {
      "needs_background": "light"
     },
     "output_type": "display_data"
    }
   ],
   "source": [
    "from scipy import stats\n",
    "nr_rows = 12\n",
    "nr_cols = 3\n",
    "\n",
    "fig, axs = plt.subplots(nr_rows, nr_cols, figsize=(nr_cols*3.5,nr_rows*3))\n",
    "\n",
    "li_num_feats = list(numerical_feats)\n",
    "# li_not_plot = ['Trip ID', 'SalePrice', 'SalePrice_Log']\n",
    "li_plot = ['Trip Seconds', 'Trip Miles', 'Pickup Census Tract', \n",
    "           'Dropoff Census Tract', 'Fare','Tips', 'Tolls', 'Extras', 'Trip Total']\n",
    "li_plot_num_feats = [c for c in list(numerical_feats) if c in li_plot]\n",
    "\n",
    "\n",
    "for r in range(0,nr_rows):\n",
    "    for c in range(0,nr_cols):  \n",
    "        i = r*nr_cols+c\n",
    "        if i < len(li_plot_num_feats):\n",
    "            sns.regplot(data[li_plot_num_feats[i]], data['Trip Total'], ax = axs[r][c])\n",
    "            stp = stats.pearsonr(data[li_plot_num_feats[i]], data['Trip Total'])\n",
    "            #axs[r][c].text(0.4,0.9,\"title\",fontsize=7)\n",
    "            str_title = \"r = \" + \"{0:.2f}\".format(stp[0]) + \"      \" \"p = \" + \"{0:.2f}\".format(stp[1])\n",
    "            axs[r][c].set_title(str_title,fontsize=11)\n",
    "            \n",
    "plt.tight_layout()    \n",
    "plt.show()   "
   ]
  },
  {
   "cell_type": "markdown",
   "metadata": {},
   "source": [
    "## From above, we further convinced that Trip Seconds, Trip Miles, fare are tightly correlated to Trip total"
   ]
  },
  {
   "cell_type": "code",
   "execution_count": 1453,
   "metadata": {
    "scrolled": true
   },
   "outputs": [
    {
     "data": {
      "text/plain": [
       "(32351, 26)"
      ]
     },
     "execution_count": 1453,
     "metadata": {},
     "output_type": "execute_result"
    }
   ],
   "source": [
    "data.columns\n",
    "data= data.loc[data['Trip Miles'].between(1, 100)]\n",
    "data.shape"
   ]
  },
  {
   "cell_type": "code",
   "execution_count": 1454,
   "metadata": {},
   "outputs": [
    {
     "data": {
      "text/plain": [
       "2        1.703198e+10\n",
       "7        1.703133e+10\n",
       "11       1.703198e+10\n",
       "15       1.703108e+10\n",
       "16       1.703184e+10\n",
       "             ...     \n",
       "99986    1.703184e+10\n",
       "99992    1.703108e+10\n",
       "99994    1.703198e+10\n",
       "99998    1.703128e+10\n",
       "99999    1.703184e+10\n",
       "Name: Pickup Census Tract, Length: 32351, dtype: float64"
      ]
     },
     "execution_count": 1454,
     "metadata": {},
     "output_type": "execute_result"
    }
   ],
   "source": [
    "data['Pickup Census Tract']"
   ]
  },
  {
   "cell_type": "code",
   "execution_count": 1456,
   "metadata": {},
   "outputs": [
    {
     "data": {
      "text/plain": [
       "2        17.90\n",
       "7         2.30\n",
       "11       13.76\n",
       "15        1.20\n",
       "16        1.70\n",
       "         ...  \n",
       "99986     3.10\n",
       "99992     2.70\n",
       "99994    17.40\n",
       "99998     2.10\n",
       "99999     1.70\n",
       "Name: Trip Miles, Length: 32351, dtype: float64"
      ]
     },
     "execution_count": 1456,
     "metadata": {},
     "output_type": "execute_result"
    }
   ],
   "source": [
    "data['Extras']\n",
    "data['Fare']\n",
    "data['Trip Miles']"
   ]
  },
  {
   "cell_type": "code",
   "execution_count": 1457,
   "metadata": {},
   "outputs": [],
   "source": [
    "from sklearn.ensemble import RandomForestRegressor\n",
    "from sklearn import preprocessing\n",
    "from sklearn.model_selection import cross_val_score, GridSearchCV\n",
    "from sklearn.preprocessing import MinMaxScaler\n",
    "from sklearn.preprocessing import StandardScaler\n",
    "from sklearn.model_selection import train_test_split\n",
    "from sklearn.preprocessing import MinMaxScaler\n",
    "from sklearn.preprocessing import scale"
   ]
  },
  {
   "cell_type": "code",
   "execution_count": 1460,
   "metadata": {},
   "outputs": [
    {
     "data": {
      "text/html": [
       "<div>\n",
       "<style scoped>\n",
       "    .dataframe tbody tr th:only-of-type {\n",
       "        vertical-align: middle;\n",
       "    }\n",
       "\n",
       "    .dataframe tbody tr th {\n",
       "        vertical-align: top;\n",
       "    }\n",
       "\n",
       "    .dataframe thead th {\n",
       "        text-align: right;\n",
       "    }\n",
       "</style>\n",
       "<table border=\"1\" class=\"dataframe\">\n",
       "  <thead>\n",
       "    <tr style=\"text-align: right;\">\n",
       "      <th></th>\n",
       "      <th>Trip Seconds</th>\n",
       "      <th>Trip Miles</th>\n",
       "    </tr>\n",
       "  </thead>\n",
       "  <tbody>\n",
       "    <tr>\n",
       "      <td>99430</td>\n",
       "      <td>960.0</td>\n",
       "      <td>3.20</td>\n",
       "    </tr>\n",
       "    <tr>\n",
       "      <td>33945</td>\n",
       "      <td>3180.0</td>\n",
       "      <td>17.10</td>\n",
       "    </tr>\n",
       "    <tr>\n",
       "      <td>77045</td>\n",
       "      <td>3780.0</td>\n",
       "      <td>17.00</td>\n",
       "    </tr>\n",
       "    <tr>\n",
       "      <td>40518</td>\n",
       "      <td>490.0</td>\n",
       "      <td>1.26</td>\n",
       "    </tr>\n",
       "    <tr>\n",
       "      <td>39937</td>\n",
       "      <td>720.0</td>\n",
       "      <td>3.70</td>\n",
       "    </tr>\n",
       "    <tr>\n",
       "      <td>...</td>\n",
       "      <td>...</td>\n",
       "      <td>...</td>\n",
       "    </tr>\n",
       "    <tr>\n",
       "      <td>21777</td>\n",
       "      <td>588.0</td>\n",
       "      <td>1.81</td>\n",
       "    </tr>\n",
       "    <tr>\n",
       "      <td>26655</td>\n",
       "      <td>1042.0</td>\n",
       "      <td>2.95</td>\n",
       "    </tr>\n",
       "    <tr>\n",
       "      <td>62082</td>\n",
       "      <td>480.0</td>\n",
       "      <td>1.30</td>\n",
       "    </tr>\n",
       "    <tr>\n",
       "      <td>12687</td>\n",
       "      <td>376.0</td>\n",
       "      <td>1.15</td>\n",
       "    </tr>\n",
       "    <tr>\n",
       "      <td>56907</td>\n",
       "      <td>360.0</td>\n",
       "      <td>1.20</td>\n",
       "    </tr>\n",
       "  </tbody>\n",
       "</table>\n",
       "<p>6471 rows × 2 columns</p>\n",
       "</div>"
      ],
      "text/plain": [
       "       Trip Seconds  Trip Miles\n",
       "99430         960.0        3.20\n",
       "33945        3180.0       17.10\n",
       "77045        3780.0       17.00\n",
       "40518         490.0        1.26\n",
       "39937         720.0        3.70\n",
       "...             ...         ...\n",
       "21777         588.0        1.81\n",
       "26655        1042.0        2.95\n",
       "62082         480.0        1.30\n",
       "12687         376.0        1.15\n",
       "56907         360.0        1.20\n",
       "\n",
       "[6471 rows x 2 columns]"
      ]
     },
     "execution_count": 1460,
     "metadata": {},
     "output_type": "execute_result"
    }
   ],
   "source": [
    "X = data[['Trip Seconds', 'Trip Miles']]\n",
    "Y = data['Trip Total']\n",
    "X_train, X_test, y_train, y_test = train_test_split(X, Y, test_size=0.2, random_state=0)\n",
    "\n",
    "X_train\n",
    "X_test\n",
    "# y_test"
   ]
  },
  {
   "cell_type": "markdown",
   "metadata": {},
   "source": [
    "## If the number of estimators is changed to 10, the results are as follows:"
   ]
  },
  {
   "cell_type": "code",
   "execution_count": 1461,
   "metadata": {
    "scrolled": true
   },
   "outputs": [
    {
     "data": {
      "text/html": [
       "<div>\n",
       "<style scoped>\n",
       "    .dataframe tbody tr th:only-of-type {\n",
       "        vertical-align: middle;\n",
       "    }\n",
       "\n",
       "    .dataframe tbody tr th {\n",
       "        vertical-align: top;\n",
       "    }\n",
       "\n",
       "    .dataframe thead th {\n",
       "        text-align: right;\n",
       "    }\n",
       "</style>\n",
       "<table border=\"1\" class=\"dataframe\">\n",
       "  <thead>\n",
       "    <tr style=\"text-align: right;\">\n",
       "      <th></th>\n",
       "      <th>Trip Seconds</th>\n",
       "      <th>Trip Total</th>\n",
       "      <th>Trip Miles</th>\n",
       "    </tr>\n",
       "  </thead>\n",
       "  <tbody>\n",
       "    <tr>\n",
       "      <td>2</td>\n",
       "      <td>1680.0</td>\n",
       "      <td>58.25</td>\n",
       "      <td>17.90</td>\n",
       "    </tr>\n",
       "    <tr>\n",
       "      <td>7</td>\n",
       "      <td>864.0</td>\n",
       "      <td>11.25</td>\n",
       "      <td>2.30</td>\n",
       "    </tr>\n",
       "    <tr>\n",
       "      <td>11</td>\n",
       "      <td>2215.0</td>\n",
       "      <td>48.30</td>\n",
       "      <td>13.76</td>\n",
       "    </tr>\n",
       "    <tr>\n",
       "      <td>15</td>\n",
       "      <td>456.0</td>\n",
       "      <td>7.25</td>\n",
       "      <td>1.20</td>\n",
       "    </tr>\n",
       "    <tr>\n",
       "      <td>16</td>\n",
       "      <td>529.0</td>\n",
       "      <td>10.25</td>\n",
       "      <td>1.70</td>\n",
       "    </tr>\n",
       "    <tr>\n",
       "      <td>...</td>\n",
       "      <td>...</td>\n",
       "      <td>...</td>\n",
       "      <td>...</td>\n",
       "    </tr>\n",
       "    <tr>\n",
       "      <td>99986</td>\n",
       "      <td>1260.0</td>\n",
       "      <td>15.25</td>\n",
       "      <td>3.10</td>\n",
       "    </tr>\n",
       "    <tr>\n",
       "      <td>99992</td>\n",
       "      <td>840.0</td>\n",
       "      <td>12.25</td>\n",
       "      <td>2.70</td>\n",
       "    </tr>\n",
       "    <tr>\n",
       "      <td>99994</td>\n",
       "      <td>2040.0</td>\n",
       "      <td>57.40</td>\n",
       "      <td>17.40</td>\n",
       "    </tr>\n",
       "    <tr>\n",
       "      <td>99998</td>\n",
       "      <td>1020.0</td>\n",
       "      <td>11.75</td>\n",
       "      <td>2.10</td>\n",
       "    </tr>\n",
       "    <tr>\n",
       "      <td>99999</td>\n",
       "      <td>649.0</td>\n",
       "      <td>12.75</td>\n",
       "      <td>1.70</td>\n",
       "    </tr>\n",
       "  </tbody>\n",
       "</table>\n",
       "<p>32351 rows × 3 columns</p>\n",
       "</div>"
      ],
      "text/plain": [
       "       Trip Seconds  Trip Total  Trip Miles\n",
       "2            1680.0       58.25       17.90\n",
       "7             864.0       11.25        2.30\n",
       "11           2215.0       48.30       13.76\n",
       "15            456.0        7.25        1.20\n",
       "16            529.0       10.25        1.70\n",
       "...             ...         ...         ...\n",
       "99986        1260.0       15.25        3.10\n",
       "99992         840.0       12.25        2.70\n",
       "99994        2040.0       57.40       17.40\n",
       "99998        1020.0       11.75        2.10\n",
       "99999         649.0       12.75        1.70\n",
       "\n",
       "[32351 rows x 3 columns]"
      ]
     },
     "execution_count": 1461,
     "metadata": {},
     "output_type": "execute_result"
    }
   ],
   "source": [
    "data[['Trip Seconds', 'Trip Total', 'Trip Miles']]"
   ]
  },
  {
   "cell_type": "code",
   "execution_count": 1488,
   "metadata": {},
   "outputs": [
    {
     "data": {
      "text/plain": [
       "1194.1952026212482"
      ]
     },
     "execution_count": 1488,
     "metadata": {},
     "output_type": "execute_result"
    }
   ],
   "source": [
    "data['Trip Seconds'].mean()"
   ]
  },
  {
   "cell_type": "code",
   "execution_count": 1489,
   "metadata": {},
   "outputs": [
    {
     "data": {
      "text/plain": [
       "1483.5330369509122"
      ]
     },
     "execution_count": 1489,
     "metadata": {},
     "output_type": "execute_result"
    }
   ],
   "source": [
    "data['Trip Seconds'].std() "
   ]
  },
  {
   "cell_type": "code",
   "execution_count": 1491,
   "metadata": {},
   "outputs": [
    {
     "data": {
      "text/plain": [
       "5.225666903650711"
      ]
     },
     "execution_count": 1491,
     "metadata": {},
     "output_type": "execute_result"
    }
   ],
   "source": [
    "data['Trip Miles'].mean()"
   ]
  },
  {
   "cell_type": "code",
   "execution_count": 1492,
   "metadata": {},
   "outputs": [
    {
     "data": {
      "text/plain": [
       "6.382840078515227"
      ]
     },
     "execution_count": 1492,
     "metadata": {},
     "output_type": "execute_result"
    }
   ],
   "source": [
    "data['Trip Miles'].std()"
   ]
  },
  {
   "cell_type": "code",
   "execution_count": 1490,
   "metadata": {},
   "outputs": [
    {
     "data": {
      "text/plain": [
       "array([[-0.32168358, -0.53949148],\n",
       "       [ 1.67651835,  2.01311207],\n",
       "       [-0.39058709, -0.66400873],\n",
       "       ...,\n",
       "       [-0.58559704, -0.66400873],\n",
       "       [-0.14292446, -0.28578759],\n",
       "       [-0.11757317, -0.44610354]])"
      ]
     },
     "execution_count": 1490,
     "metadata": {},
     "output_type": "execute_result"
    }
   ],
   "source": [
    "X_train"
   ]
  },
  {
   "cell_type": "code",
   "execution_count": 1463,
   "metadata": {},
   "outputs": [
    {
     "data": {
      "text/plain": [
       "array([[-0.15657515, -0.3215863 ],\n",
       "       [ 1.28649846,  1.84190086],\n",
       "       [ 1.67651835,  1.8263362 ],\n",
       "       ...,\n",
       "       [-0.46859107, -0.61731476],\n",
       "       [-0.53619452, -0.64066174],\n",
       "       [-0.54659505, -0.63287941]])"
      ]
     },
     "execution_count": 1463,
     "metadata": {},
     "output_type": "execute_result"
    }
   ],
   "source": [
    "ss5 = StandardScaler()\n",
    "X_train = ss5.fit_transform(X_train)\n",
    "X_test = ss5.transform(X_test)\n",
    "X_train\n",
    "X_test"
   ]
  },
  {
   "cell_type": "code",
   "execution_count": 1486,
   "metadata": {},
   "outputs": [
    {
     "data": {
      "text/plain": [
       "array([[-0.32168358, -0.53949148],\n",
       "       [ 1.67651835,  2.01311207],\n",
       "       [-0.39058709, -0.66400873],\n",
       "       ...,\n",
       "       [-0.58559704, -0.66400873],\n",
       "       [-0.14292446, -0.28578759],\n",
       "       [-0.11757317, -0.44610354]])"
      ]
     },
     "execution_count": 1486,
     "metadata": {},
     "output_type": "execute_result"
    }
   ],
   "source": [
    "X_train"
   ]
  },
  {
   "cell_type": "code",
   "execution_count": 1487,
   "metadata": {},
   "outputs": [
    {
     "name": "stdout",
     "output_type": "stream",
     "text": [
      "[ 1.99052501 16.6702642 ]\n",
      "21.275995363214843\n"
     ]
    }
   ],
   "source": [
    "# ss3 = StandardScaler()\n",
    "# X_train = ss3.fit_transform(X_train)\n",
    "# X_test = ss3.transform(X_test)\n",
    "\n",
    "regr2 = linear_model.LinearRegression()\n",
    "regr2.fit(X_train, y_train)\n",
    "print(regr.coef_)\n",
    "print(regr.intercept_)\n",
    "\n",
    "# X_test_random = ss2.transform([[270,2.25]])\n",
    "# X_test_random\n",
    "# y_test_random = regr.predict(X_test_random)\n",
    "# y_test_random\n"
   ]
  },
  {
   "cell_type": "code",
   "execution_count": 1474,
   "metadata": {},
   "outputs": [
    {
     "data": {
      "text/plain": [
       "array([[-0.78111474, -0.97036804],\n",
       "       [-0.78111474, -0.96909831],\n",
       "       [-0.78111474, -0.96910744],\n",
       "       ...,\n",
       "       [-0.78111474, -0.9705416 ],\n",
       "       [-0.78111474, -0.9705553 ],\n",
       "       [-0.78111474, -0.97055074]])"
      ]
     },
     "execution_count": 1474,
     "metadata": {},
     "output_type": "execute_result"
    }
   ],
   "source": [
    "X_test = ss5.transform(X_test)\n",
    "X_test"
   ]
  },
  {
   "cell_type": "code",
   "execution_count": 1496,
   "metadata": {},
   "outputs": [
    {
     "data": {
      "text/plain": [
       "array([12.24566827])"
      ]
     },
     "execution_count": 1496,
     "metadata": {},
     "output_type": "execute_result"
    }
   ],
   "source": [
    "X_test_random2 = ss5.transform([[270, 2.25]])\n",
    "\n",
    "X_test_random2\n",
    "y_test_random = regr2.predict(X_test_random2)\n",
    "y_test_random"
   ]
  }
 ],
 "metadata": {
  "kernelspec": {
   "display_name": "Python 3",
   "language": "python",
   "name": "python3"
  },
  "language_info": {
   "codemirror_mode": {
    "name": "ipython",
    "version": 3
   },
   "file_extension": ".py",
   "mimetype": "text/x-python",
   "name": "python",
   "nbconvert_exporter": "python",
   "pygments_lexer": "ipython3",
   "version": "3.7.4"
  }
 },
 "nbformat": 4,
 "nbformat_minor": 2
}
